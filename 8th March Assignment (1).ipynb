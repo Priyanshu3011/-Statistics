{
 "cells": [
  {
   "cell_type": "markdown",
   "id": "97a157c9-0a5b-46ec-988f-21673e5ba5fc",
   "metadata": {},
   "source": [
    "Q1. What is the Probability density function?"
   ]
  },
  {
   "cell_type": "markdown",
   "id": "b9eb3fa9-dd91-47b0-af16-391d18ebf001",
   "metadata": {},
   "source": [
    "Ans:-\n",
    "\n",
    "The Probability Density Function (PDF) is a fundamental concept in probability and statistics. It describes the likelihood of a continuous random variable taking on a particular value within a certain range. The PDF is used to model the probability distribution of continuous random variables.\n",
    "\n",
    "The PDF is defined such that the area under the curve over a given interval represents the probability that the random variable falls within that interval. In other words, the PDF provides a way to analyze the probability of a random variable assuming specific values, even though the probability of a single exact value is technically zero for a continuous random variable.\n",
    "\n",
    "The properties of a PDF are as follows:\n",
    "\n",
    "1. The PDF is always non-negative: \\( f(x) \\geq 0 \\) for all \\( x \\).\n",
    "2. The total area under the PDF curve over all possible values of \\( x \\) is equal to 1.\n",
    "3. The probability of a random variable falling within a specific range \\( [a, b] \\) is given by the integral of the PDF over that range: \\( P(a \\leq x \\leq b) = \\int_a^b f(x) \\, dx \\).\n",
    "\n",
    "For example, the PDF of a normal distribution describes the likelihood of a continuous variable taking on different values according to the bell-shaped curve.\n",
    "\n",
    "Mathematically, the PDF is often denoted as \\( f(x) \\), where \\( x \\) is the variable of interest. The precise form of the PDF varies depending on the specific probability distribution being considered.\n",
    "\n",
    "In summary, the Probability Density Function is a tool used to describe the probability distribution of continuous random variables. It provides information about the likelihood of observing certain values within a given range and is fundamental to understanding and working with continuous probability distributions."
   ]
  },
  {
   "cell_type": "markdown",
   "id": "9a39936a-0ae7-4d8a-9b1c-a44628c8b02a",
   "metadata": {},
   "source": [
    "Q2. What are the types of Probability distribution?"
   ]
  },
  {
   "cell_type": "markdown",
   "id": "6721c950-8750-471d-ac06-75bf8738a737",
   "metadata": {},
   "source": [
    "Ans:-\n",
    "\n",
    "There are several types of probability distributions, each with its own characteristics and applications. Here are some of the most common types:\n",
    "\n",
    "1. **Discrete Probability Distributions:**\n",
    "   - **Bernoulli Distribution:** Models the probability of success (1) or failure (0) in a single trial.\n",
    "   - **Binomial Distribution:** Represents the number of successes in a fixed number of independent Bernoulli trials.\n",
    "   - **Poisson Distribution:** Models the number of events occurring in a fixed interval of time or space when events occur randomly and at a constant average rate.\n",
    "   - **Geometric Distribution:** Represents the number of trials needed for the first success in a sequence of independent Bernoulli trials.\n",
    "   - **Hypergeometric Distribution:** Describes the probability of drawing a specific number of successes from a finite population without replacement.\n",
    "\n",
    "2. **Continuous Probability Distributions:**\n",
    "   - **Normal Distribution (Gaussian Distribution):** Has a bell-shaped curve and is widely used due to its prevalence in natural phenomena and the central limit theorem.\n",
    "   - **Exponential Distribution:** Models the time between events in a Poisson process, where events occur randomly and at a constant average rate.\n",
    "   - **Uniform Distribution:** Represents equally likely outcomes over a specified interval.\n",
    "   - **Gamma Distribution:** Generalizes the exponential distribution to accommodate various shapes and rate parameters.\n",
    "   - **Beta Distribution:** Represents probabilities of success in situations with two outcomes.\n",
    "   - **Chi-Square Distribution:** Arises in the context of hypothesis testing and confidence intervals when dealing with population variances.\n",
    "   - **T-Distribution:** Used for estimating population mean when the sample size is small or the population variance is unknown.\n",
    "\n",
    "3. **Multivariate Probability Distributions:**\n",
    "   - **Multinomial Distribution:** Generalizes the binomial distribution to more than two categories.\n",
    "   - **Multivariate Normal Distribution:** Extends the normal distribution to higher dimensions, commonly used in multivariate statistical analyses.\n",
    "\n",
    "These probability distributions are essential tools in probability theory, statistics, and various fields such as physics, engineering, finance, and more. They allow for modeling and analyzing real-world phenomena and making predictions based on probabilistic insights."
   ]
  },
  {
   "cell_type": "markdown",
   "id": "327c2135-fad5-4912-ba80-be27984b3bfa",
   "metadata": {},
   "source": [
    "Q3. Write a Python function to calculate the probability density function of a normal distribution with\n",
    "given mean and standard deviation at a given point."
   ]
  },
  {
   "cell_type": "code",
   "execution_count": 1,
   "id": "48654309-a921-442f-a258-68b819f23a14",
   "metadata": {},
   "outputs": [
    {
     "name": "stdout",
     "output_type": "stream",
     "text": [
      "PDF at x = 1: 0.24197072451914337\n"
     ]
    }
   ],
   "source": [
    "#Ans:-\n",
    "\n",
    "import scipy.stats as stats\n",
    "\n",
    "def normal_pdf(mean, std_dev, x):\n",
    "    \"\"\"\n",
    "    Calculate the probability density function (PDF) of a normal distribution at a given point.\n",
    "    \n",
    "    Parameters:\n",
    "    mean (float): Mean of the normal distribution.\n",
    "    std_dev (float): Standard deviation of the normal distribution.\n",
    "    x (float): Point at which to evaluate the PDF.\n",
    "    \n",
    "    Returns:\n",
    "    float: PDF value at the given point.\n",
    "    \"\"\"\n",
    "    pdf_value = stats.norm.pdf(x, loc=mean, scale=std_dev)\n",
    "    return pdf_value\n",
    "\n",
    "# Example usage\n",
    "mean = 0  # Mean of the normal distribution\n",
    "std_dev = 1  # Standard deviation of the normal distribution\n",
    "x = 1  # Point at which to evaluate the PDF\n",
    "\n",
    "pdf_at_x = normal_pdf(mean, std_dev, x)\n",
    "print(f\"PDF at x = {x}: {pdf_at_x}\")\n"
   ]
  },
  {
   "cell_type": "markdown",
   "id": "1a473875-678e-49bb-b0aa-84507b768d5f",
   "metadata": {},
   "source": [
    "Q4. What are the properties of Binomial distribution? Give two examples of events where binomial\n",
    "distribution can be applied."
   ]
  },
  {
   "cell_type": "markdown",
   "id": "cf8aadb6-2adf-45fb-be6a-8bb7f681c8fb",
   "metadata": {},
   "source": [
    "Ans:-\n",
    "\n",
    "The binomial distribution is a discrete probability distribution that models the number of successes in a fixed number of independent Bernoulli trials. Bernoulli trials are experiments with two possible outcomes: success (usually denoted as 1) and failure (usually denoted as 0). The binomial distribution has several important properties:\n",
    "\n",
    "1. **Independent Trials:** The trials are assumed to be independent, meaning the outcome of one trial does not affect the outcome of another.\n",
    "\n",
    "2. **Fixed Number of Trials:** The distribution is defined for a fixed number of trials, denoted as \\( n \\).\n",
    "\n",
    "3. **Constant Probability:** The probability of success, denoted as \\( p \\), remains the same for each trial.\n",
    "\n",
    "4. **Discrete Outcome:** The outcomes are discrete, as they can only be whole numbers (0, 1, 2, ...).\n",
    "\n",
    "5. **Number of Successes:** The binomial distribution describes the number of successes out of the \\( n \\) trials.\n",
    "\n",
    "6. **Parameters:** The distribution is defined by two parameters: \\( n \\) (number of trials) and \\( p \\) (probability of success in each trial).\n",
    "\n",
    "7. **Probability Mass Function (PMF):** The probability of getting exactly \\( k \\) successes out of \\( n \\) trials is given by the binomial probability mass function:\n",
    "   \\[ P(X = k) = \\binom{n}{k} \\cdot p^k \\cdot (1 - p)^{n - k} \\]\n",
    "   where \\( \\binom{n}{k} \\) is the binomial coefficient, representing the number of ways to choose \\( k \\) successes out of \\( n \\) trials.\n",
    "\n",
    "**Examples of Binomial Distribution:**\n",
    "\n",
    "1. **Coin Flips:** When flipping a fair coin, the outcome is a Bernoulli trial with success being heads and failure being tails. If you flip the coin \\( n \\) times and want to know the probability of getting a certain number of heads, you can use the binomial distribution.\n",
    "\n",
    "2. **Quality Control:** In manufacturing, when products are tested for defects, each item can be considered a Bernoulli trial with success being a defect and failure being a non-defective item. If you sample \\( n \\) items and want to find the probability of a certain number of defects, you can use the binomial distribution.\n",
    "\n",
    "These examples demonstrate how the binomial distribution is used to model scenarios where there are a fixed number of trials, each with a constant probability of success, and we are interested in the number of successes."
   ]
  },
  {
   "cell_type": "markdown",
   "id": "3a8c7b91-f951-4899-a095-5ab7c116b728",
   "metadata": {},
   "source": [
    "Q5. Generate a random sample of size 1000 from a binomial distribution with probability of success 0.4\n",
    "and plot a histogram of the results using matplotlib."
   ]
  },
  {
   "cell_type": "code",
   "execution_count": 2,
   "id": "386bf0e1-855e-468b-909d-6c95b229a490",
   "metadata": {},
   "outputs": [
    {
     "data": {
      "image/png": "[encoded data removed]",
      "text/plain": [
       "<Figure size 640x480 with 1 Axes>"
      ]
     },
     "metadata": {},
     "output_type": "display_data"
    }
   ],
   "source": [
    "#Ans:-\n",
    "\n",
    "import numpy as np\n",
    "import matplotlib.pyplot as plt\n",
    "\n",
    "# Parameters\n",
    "sample_size = 1000\n",
    "probability_of_success = 0.4\n",
    "\n",
    "# Generate random sample from binomial distribution\n",
    "random_sample = np.random.binomial(n=1, p=probability_of_success, size=sample_size)\n",
    "\n",
    "# Plot histogram\n",
    "plt.hist(random_sample, bins=2, edgecolor='black', alpha=0.7)\n",
    "plt.xlabel('Outcome')\n",
    "plt.ylabel('Frequency')\n",
    "plt.title(f'Histogram of Random Sample from Binomial Distribution (p={probability_of_success})')\n",
    "plt.xticks([0, 1], ['Failure (0)', 'Success (1)'])\n",
    "plt.show()\n"
   ]
  },
  {
   "cell_type": "markdown",
   "id": "6e1464b9-1c82-4235-a2b2-e13e52ce3504",
   "metadata": {},
   "source": [
    "Q6. Write a Python function to calculate the cumulative distribution function of a Poisson distribution\n",
    "with given mean at a given point."
   ]
  },
  {
   "cell_type": "code",
   "execution_count": 3,
   "id": "e4ed5bf7-2e41-4257-9cac-7ab1921f1dae",
   "metadata": {},
   "outputs": [
    {
     "name": "stdout",
     "output_type": "stream",
     "text": [
      "CDF at x = 5: 0.9160820579686966\n"
     ]
    }
   ],
   "source": [
    "#Ans:-\n",
    "\n",
    "import scipy.stats as stats\n",
    "\n",
    "def poisson_cdf(mean, x):\n",
    "    \"\"\"\n",
    "    Calculate the cumulative distribution function (CDF) of a Poisson distribution at a given point.\n",
    "    \n",
    "    Parameters:\n",
    "    mean (float): Mean of the Poisson distribution.\n",
    "    x (int): Point at which to evaluate the CDF.\n",
    "    \n",
    "    Returns:\n",
    "    float: CDF value at the given point.\n",
    "    \"\"\"\n",
    "    cdf_value = stats.poisson.cdf(x, mu=mean)\n",
    "    return cdf_value\n",
    "\n",
    "# Example usage\n",
    "mean = 3  # Mean of the Poisson distribution\n",
    "x = 5  # Point at which to evaluate the CDF\n",
    "\n",
    "cdf_at_x = poisson_cdf(mean, x)\n",
    "print(f\"CDF at x = {x}: {cdf_at_x}\")\n",
    "\n",
    "\n"
   ]
  },
  {
   "cell_type": "markdown",
   "id": "7945240b-d2f3-4bf4-8bf2-f9dd01545955",
   "metadata": {},
   "source": [
    "Q7. How Binomial distribution different from Poisson distribution?\n"
   ]
  },
  {
   "cell_type": "markdown",
   "id": "76f5e8af-147e-4ee1-843a-0131b05586b3",
   "metadata": {},
   "source": [
    "Ans:-\n",
    "\n",
    "The Binomial distribution and the Poisson distribution are both probability distributions used to model the number of events in a fixed number of trials or over a fixed interval of time or space. However, they are used in different contexts and have distinct characteristics:\n",
    "\n",
    "**Binomial Distribution:**\n",
    "1. **Number of Trials:** The Binomial distribution is used when there is a fixed number of independent trials, each with two possible outcomes (success or failure).\n",
    "2. **Constant Probability:** The probability of success remains the same for each trial.\n",
    "3. **Discrete Outcome:** The outcomes are discrete and represent the count of successes out of the fixed number of trials.\n",
    "4. **Parameters:** The distribution is defined by two parameters: \\( n \\) (number of trials) and \\( p \\) (probability of success in each trial).\n",
    "5. **Examples:** Modeling the number of successes in a fixed number of coin flips, the number of defective items in a sample from a manufacturing process.\n",
    "\n",
    "**Poisson Distribution:**\n",
    "1. **Time or Space Interval:** The Poisson distribution is used to model the number of events occurring in a fixed interval of time or space when events occur randomly and at a constant average rate.\n",
    "2. **No. of Trials Not Fixed:** Unlike the Binomial distribution, the number of trials or events is not fixed; it can vary over time or space.\n",
    "3. **Constant Average Rate:** The rate of events is constant across the interval.\n",
    "4. **Discrete Outcome:** The outcomes are discrete and represent the count of events in the fixed interval.\n",
    "5. **Parameters:** The distribution is defined by one parameter: \\( \\lambda \\) (average rate of events per interval).\n",
    "6. **Examples:** Modeling the number of phone calls received by a call center in an hour, the number of accidents at a traffic intersection in a day.\n",
    "\n",
    "In summary, the key difference lies in the context and the characteristics of the data being modeled. The Binomial distribution is used for a fixed number of trials with constant probability of success, while the Poisson distribution is used for events occurring randomly in a fixed interval with a constant average rate.\n",
    "\n"
   ]
  },
  {
   "cell_type": "markdown",
   "id": "4d57cef2-21bc-4952-aa74-8a1dd16a19c7",
   "metadata": {},
   "source": [
    "Q8. Generate a random sample of size 1000 from a Poisson distribution with mean 5 and calculate the\n",
    "sample mean and variance."
   ]
  },
  {
   "cell_type": "code",
   "execution_count": 4,
   "id": "6ce3b2c8-686b-4caa-a3a4-f9e3b5dedcaa",
   "metadata": {},
   "outputs": [
    {
     "name": "stdout",
     "output_type": "stream",
     "text": [
      "Sample Mean: 5.111\n",
      "Sample Variance: 5.4341131131131135\n"
     ]
    }
   ],
   "source": [
    "#Ans:-\n",
    "\n",
    "import numpy as np\n",
    "\n",
    "# Parameters\n",
    "sample_size = 1000\n",
    "mean = 5\n",
    "\n",
    "# Generate random sample from Poisson distribution\n",
    "random_sample = np.random.poisson(lam=mean, size=sample_size)\n",
    "\n",
    "# Calculate sample mean and sample variance\n",
    "sample_mean = np.mean(random_sample)\n",
    "sample_variance = np.var(random_sample, ddof=1)  # ddof=1 for unbiased sample variance\n",
    "\n",
    "print(f\"Sample Mean: {sample_mean}\")\n",
    "print(f\"Sample Variance: {sample_variance}\")\n"
   ]
  },
  {
   "cell_type": "markdown",
   "id": "05ea0856-61a0-43ec-ab47-e1eb039da977",
   "metadata": {},
   "source": [
    "Q9. How mean and variance are related in Binomial distribution and Poisson distribution?"
   ]
  },
  {
   "cell_type": "markdown",
   "id": "c0baea0a-48b8-4390-b6a2-5d77dbf9f643",
   "metadata": {},
   "source": [
    "Ans:-\n",
    "\n",
    "The relationship between the mean and variance in both the Binomial distribution and the Poisson distribution depends on the characteristics of each distribution. Let's explore these relationships for both distributions:\n",
    "\n",
    "**Binomial Distribution:**\n",
    "In the Binomial distribution, where you have a fixed number of trials \\( n \\) and each trial has a probability of success \\( p \\), the mean (\\( \\mu \\)) and variance (\\( \\sigma^2 \\)) are related as follows:\n",
    "- Mean: \\( \\mu = np \\)\n",
    "- Variance: \\( \\sigma^2 = np(1 - p) \\)\n",
    "\n",
    "The variance is influenced by both the number of trials \\( n \\) and the probability of success \\( p \\). When \\( p \\) is close to 0 or 1, the variance approaches its maximum value of \\( np(1 - p) \\). When \\( p \\) is around 0.5, the variance is at its minimum.\n",
    "\n",
    "**Poisson Distribution:**\n",
    "In the Poisson distribution, where you are modeling the number of events occurring in a fixed interval of time or space with a constant average rate \\( \\lambda \\), the mean (\\( \\mu \\)) and variance (\\( \\sigma^2 \\)) are related as follows:\n",
    "- Mean: \\( \\mu = \\lambda \\)\n",
    "- Variance: \\( \\sigma^2 = \\lambda \\)\n",
    "\n",
    "In the Poisson distribution, the mean and variance are equal, regardless of the value of \\( \\lambda \\). This is a unique property of the Poisson distribution. As the average rate \\( \\lambda \\) increases, the distribution becomes more spread out, but the mean and variance remain equal.\n",
    "\n",
    "**Summary:**\n",
    "In the Binomial distribution, the variance depends on both the number of trials \\( n \\) and the probability of success \\( p \\), while in the Poisson distribution, the variance is solely determined by the average rate \\( \\lambda \\). Additionally, in the Poisson distribution, the mean and variance are always equal.\n",
    "\n",
    "It's important to note that these relationships provide insights into the spread and characteristics of the distributions, but they don't tell the whole story about the shape of the distributions. The shape of the distributions can vary depending on the specific parameter values used."
   ]
  },
  {
   "cell_type": "markdown",
   "id": "c492bcf9-00fb-444e-b2db-341b950a0341",
   "metadata": {},
   "source": [
    "Q10. In normal distribution with respect to mean position, where does the least frequent data appear?"
   ]
  },
  {
   "cell_type": "markdown",
   "id": "d9aa003a-a6c2-41a7-83fd-7de33450bd2a",
   "metadata": {},
   "source": [
    "Ans:-\n",
    "\n",
    "In a normal distribution (also known as a Gaussian distribution), the data is symmetrically distributed around the mean. This means that the least frequent data points appear at the tails of the distribution, farthest from the mean.\n",
    "\n",
    "Specifically:\n",
    "\n",
    "1. **Left Tail:** The left tail of the normal distribution corresponds to the values that are significantly smaller than the mean. As you move farther to the left from the mean, the frequency of data points decreases. The data points in the left tail are considered \"low\" values relative to the mean.\n",
    "\n",
    "2. **Right Tail:** The right tail of the normal distribution corresponds to the values that are significantly larger than the mean. As you move farther to the right from the mean, the frequency of data points also decreases. The data points in the right tail are considered \"high\" values relative to the mean.\n",
    "\n",
    "The area under the normal distribution curve in the tails becomes increasingly smaller as you move away from the mean. This reflects the fact that extreme values are less likely to occur in a normal distribution compared to values closer to the mean.\n",
    "\n",
    "In summary, the least frequent data points in a normal distribution appear in the tails of the distribution, which are farthest from the mean."
   ]
  },
  {
   "cell_type": "code",
   "execution_count": null,
   "id": "0fc50348-44bd-46e9-a705-c950d3e4d8f2",
   "metadata": {},
   "outputs": [],
   "source": []
  }
 ],
 "metadata": {
  "kernelspec": {
   "display_name": "Python 3 (ipykernel)",
   "language": "python",
   "name": "python3"
  },
  "language_info": {
   "codemirror_mode": {
    "name": "ipython",
    "version": 3
   },
   "file_extension": ".py",
   "mimetype": "text/x-python",
   "name": "python",
   "nbconvert_exporter": "python",
   "pygments_lexer": "ipython3",
   "version": "3.10.8"
  }
 },
 "nbformat": 4,
 "nbformat_minor": 5
}
